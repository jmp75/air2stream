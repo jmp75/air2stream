{
 "cells": [
  {
   "cell_type": "code",
   "execution_count": null,
   "id": "3c203d74-3786-4ce2-88fa-fe6786729a7f",
   "metadata": {},
   "outputs": [],
   "source": [
    "from air2stream.native import a2s"
   ]
  },
  {
   "cell_type": "code",
   "execution_count": null,
   "id": "973caa0e-a803-4668-8090-97eb35f39082",
   "metadata": {},
   "outputs": [],
   "source": [
    "a2s"
   ]
  },
  {
   "cell_type": "code",
   "execution_count": null,
   "id": "500f2100-77ea-4c3b-b50c-574049d93ea3",
   "metadata": {},
   "outputs": [],
   "source": [
    "cc = a2s.commondata\n",
    "\n",
    "# Main input\n",
    "cc.name = \"Switzerland\"        # name of the river/basin/region\n",
    "cc.air_station = \"SIO\"              # name/ID of the air temperature station\n",
    "cc.water_station = 2011            # name/ID of the water temperature station\n",
    "cc.series = \"c\"                # type of series: c=continuous series, m=mean year\n",
    "cc.time_res = \"1d\"                # time resolution: 1d=daily, nw=n weeks (n=1,2,...), 1m=monthly\n",
    "cc.version = 8               # version: 3,4,5,7,8 parameters\n",
    "cc.Tice_cover = 0                # Threshold temperature for ice formation\n",
    "cc.fun_obj = \"RMS\"                # objective function: RMS (Root Mean Square Error), NSE (Nash-Sutcliffe Efficiency Index), KGE (Kling-Gupta Efficiency Index)\n",
    "cc.mod_num = \"CRN\"              # mod_num : numerical method used to solve the model equation EUL (Euler Explicit), RK2 (Runge-Kutta 2), RK4 (Runge-Kutta 4), CRN (Crank Nicolson). CRN is the suggested choice.\n",
    "cc.runmode = \"PSO\"                # optimization algorithm: PSO (Particle Swarm Optimization) or RANSAM (Random Sampling)\n",
    "cc.prc = 0.60            # minimum percentage of data: 0...1. E.g., when using 1m time resolution, the monthly average is set to NaN when available data during one month are less than this percentage (60% in this case)    \n",
    "cc.n_run = 500                # n_run: number of iterations\n",
    "cc.mineff_index = -999            # minimum efficiency index (i.e., RMS, NSE, KGE). All model realization with efficiency index greater than this threshold are saved in file 0_...\n"
   ]
  },
  {
   "cell_type": "code",
   "execution_count": null,
   "id": "84c7f979-c842-4bfc-a78b-01ca386e14b6",
   "metadata": {},
   "outputs": [],
   "source": [
    "cc.station = cc.air_station + b'_' + cc.water_station"
   ]
  },
  {
   "cell_type": "code",
   "execution_count": null,
   "id": "fd44a00d-d112-4b90-b6c9-c9b3817c8f02",
   "metadata": {},
   "outputs": [],
   "source": [
    "cc.station"
   ]
  },
  {
   "cell_type": "code",
   "execution_count": null,
   "id": "5fb7ce07-07fb-4077-91f1-ed272d4e08db",
   "metadata": {},
   "outputs": [],
   "source": [
    "cc.n_particles = 500\n",
    "cc.c1 = 2\n",
    "cc.c2 = 2\n",
    "cc.wmax = 0.9\n",
    "cc.wmin = 0.4\n"
   ]
  },
  {
   "cell_type": "code",
   "execution_count": null,
   "id": "8c32be90-c0b2-4795-8b33-e36e14a64d2d",
   "metadata": {},
   "outputs": [],
   "source": [
    "import numpy as np"
   ]
  },
  {
   "cell_type": "code",
   "execution_count": null,
   "id": "913edec1-d438-4667-aa45-ad85374f0d2e",
   "metadata": {},
   "outputs": [],
   "source": [
    "a2s.init_param_arrays()"
   ]
  },
  {
   "cell_type": "code",
   "execution_count": null,
   "id": "ccf9844c-4109-4d11-a28c-e3dcab2cda6c",
   "metadata": {},
   "outputs": [],
   "source": [
    "cc.parmin = np.array([-5, -5, -5, -1, 0, 0, 0, -1], dtype=float)\n",
    "cc.parmax = np.array([15, 1.5, 5, 1, 20, 10, 1, 5], dtype=float)"
   ]
  },
  {
   "cell_type": "code",
   "execution_count": null,
   "id": "37652d1c-9c71-4df5-9942-25bfddab587f",
   "metadata": {},
   "outputs": [],
   "source": [
    "import pandas as pd"
   ]
  },
  {
   "cell_type": "code",
   "execution_count": null,
   "id": "371bf926-2758-4027-938b-539440e85322",
   "metadata": {},
   "outputs": [],
   "source": [
    "input_table = None\n",
    "with open('../Switzerland/SIO_2011_cc.txt') as f:\n",
    "    input_table = pd.read_table(f, header=None)"
   ]
  },
  {
   "cell_type": "code",
   "execution_count": null,
   "id": "a2b05b4a-09b8-4ee4-812a-88726bf0f8c7",
   "metadata": {},
   "outputs": [],
   "source": [
    "input_table"
   ]
  },
  {
   "cell_type": "code",
   "execution_count": null,
   "id": "43f29c5f-b581-412b-9e6e-439e90d4d67b",
   "metadata": {},
   "outputs": [],
   "source": [
    "first_year = input_table[0][4]"
   ]
  },
  {
   "cell_type": "code",
   "execution_count": null,
   "id": "5389691e-8f2a-4b60-9c2e-4b1281643a7f",
   "metadata": {},
   "outputs": [],
   "source": [
    "first_year_data = input_table.loc[input_table[0] < (first_year+1)].copy()"
   ]
  },
  {
   "cell_type": "code",
   "execution_count": null,
   "id": "c69b552e-4cca-46f5-b85f-fa5c4fbd5cb9",
   "metadata": {},
   "outputs": [],
   "source": [
    "first_year_data[0][:]=first_year-1"
   ]
  },
  {
   "cell_type": "code",
   "execution_count": null,
   "id": "98a38767-0beb-4f4a-8bc6-6d44265ef588",
   "metadata": {},
   "outputs": [],
   "source": [
    "first_year_data"
   ]
  },
  {
   "cell_type": "code",
   "execution_count": null,
   "id": "9f03dbf4-b286-4a52-a5c2-aa3590c6500d",
   "metadata": {},
   "outputs": [],
   "source": [
    "ext_input_table = pd.concat([first_year_data, input_table])"
   ]
  },
  {
   "cell_type": "code",
   "execution_count": null,
   "id": "50b12186-1394-455b-9bd1-8e6284dc3066",
   "metadata": {},
   "outputs": [],
   "source": [
    "n = len(ext_input_table)"
   ]
  },
  {
   "cell_type": "code",
   "execution_count": null,
   "id": "17eaea16-36c3-4fdc-b5ca-5870db3eb111",
   "metadata": {},
   "outputs": [],
   "source": []
  },
  {
   "cell_type": "code",
   "execution_count": null,
   "id": "3d56d017-6ea9-49d2-a826-d05560e5f87b",
   "metadata": {},
   "outputs": [],
   "source": [
    "a2s.init_input_arrays(n)"
   ]
  },
  {
   "cell_type": "code",
   "execution_count": null,
   "id": "103463df-2091-4c10-9ef3-00c95445a13f",
   "metadata": {},
   "outputs": [],
   "source": [
    "cc.date[:,0] = ext_input_table[0]"
   ]
  },
  {
   "cell_type": "code",
   "execution_count": null,
   "id": "8bb54b46-f5c8-45a9-8d75-92ec5c6b1e75",
   "metadata": {},
   "outputs": [],
   "source": [
    "cc.date[:,1] = ext_input_table[1]"
   ]
  },
  {
   "cell_type": "code",
   "execution_count": null,
   "id": "8d6cd7df-4782-440f-8190-f09752a7fbc5",
   "metadata": {},
   "outputs": [],
   "source": [
    "cc.date[:,2] = ext_input_table[2]"
   ]
  },
  {
   "cell_type": "code",
   "execution_count": null,
   "id": "2b8ffbfa-a9eb-404e-ae5c-ca7a7e1540f9",
   "metadata": {},
   "outputs": [],
   "source": [
    "cc.date"
   ]
  },
  {
   "cell_type": "code",
   "execution_count": null,
   "id": "14bedf05-d3f5-4739-8c7c-a2e1412778d7",
   "metadata": {},
   "outputs": [],
   "source": [
    "cc.tair = ext_input_table[3]"
   ]
  },
  {
   "cell_type": "code",
   "execution_count": null,
   "id": "6b86f77b-fee2-41e0-b721-09804e1c0248",
   "metadata": {},
   "outputs": [],
   "source": [
    "cc.twat_obs = ext_input_table[4]"
   ]
  },
  {
   "cell_type": "code",
   "execution_count": null,
   "id": "e38c746a-3ccb-40fc-aaa3-807ed79cd30b",
   "metadata": {},
   "outputs": [],
   "source": [
    "cc.q = ext_input_table[5]"
   ]
  },
  {
   "cell_type": "code",
   "execution_count": null,
   "id": "6d191751-7788-43d5-a5c9-5f0304f97bbf",
   "metadata": {},
   "outputs": [],
   "source": [
    "cc.q"
   ]
  },
  {
   "cell_type": "code",
   "execution_count": null,
   "id": "26e7232a-7e2a-4fb2-96f2-d814a3d8a08c",
   "metadata": {},
   "outputs": [],
   "source": [
    "q = input_table[5].copy()"
   ]
  },
  {
   "cell_type": "code",
   "execution_count": null,
   "id": "ae9eb670-20ea-4de0-b551-8d580d61b8cb",
   "metadata": {},
   "outputs": [],
   "source": [
    "q_positive = (q[q >= 0])\n",
    "q_media = q_positive.mean() # code says medha (median?) but calcualted mean."
   ]
  },
  {
   "cell_type": "code",
   "execution_count": null,
   "id": "5429e7a8-257f-4817-a1a7-0a103752ea9b",
   "metadata": {},
   "outputs": [],
   "source": [
    "cc.qmedia = q_media\n",
    "cc.n_q = len(q_positive)"
   ]
  },
  {
   "cell_type": "code",
   "execution_count": null,
   "id": "a3b8a3a9-6f0b-4169-aad2-8e0c24c56f54",
   "metadata": {},
   "outputs": [],
   "source": [
    "cc.time_res"
   ]
  },
  {
   "cell_type": "code",
   "execution_count": null,
   "id": "3fe17b0b-40de-44ff-983c-c5bd1a5bb460",
   "metadata": {},
   "outputs": [],
   "source": [
    "# WARNING: this is supposed to be called ONCE only...\n",
    "a2s.aggregation()"
   ]
  },
  {
   "cell_type": "code",
   "execution_count": null,
   "id": "52f9986d-8b73-4a11-b0d3-2a2d8930b2d9",
   "metadata": {},
   "outputs": [],
   "source": [
    "a2s.statis()"
   ]
  },
  {
   "cell_type": "code",
   "execution_count": null,
   "id": "ec515cb4-0434-41ef-b07f-2e53b673e32e",
   "metadata": {},
   "outputs": [],
   "source": [
    "cc.std_obs"
   ]
  },
  {
   "cell_type": "code",
   "execution_count": null,
   "id": "02076448-e6e7-4e34-bf8e-e05985ea18c0",
   "metadata": {},
   "outputs": [],
   "source": [
    "cc.mean_obs"
   ]
  },
  {
   "cell_type": "code",
   "execution_count": null,
   "id": "1669b4c0-41f2-4d60-9889-127e82f699a4",
   "metadata": {},
   "outputs": [],
   "source": [
    "cc.qmedia"
   ]
  },
  {
   "cell_type": "code",
   "execution_count": null,
   "id": "0f2cac46-559f-4a5e-8893-5a295154d3ce",
   "metadata": {},
   "outputs": [],
   "source": [
    "cc.par_best"
   ]
  },
  {
   "cell_type": "code",
   "execution_count": null,
   "id": "bce7cfbe-e829-477d-9b61-5e80ef2d3a10",
   "metadata": {},
   "outputs": [],
   "source": [
    "cc.finalfit"
   ]
  },
  {
   "cell_type": "code",
   "execution_count": null,
   "id": "0b12d509-8162-4cfc-bd58-2782ea80f4eb",
   "metadata": {},
   "outputs": [],
   "source": [
    "a2s.pso_array_init()"
   ]
  },
  {
   "cell_type": "code",
   "execution_count": null,
   "id": "032c5ae2-a1d1-4b26-8f75-1ab7a22a0c88",
   "metadata": {},
   "outputs": [],
   "source": [
    "cc.par_best"
   ]
  },
  {
   "cell_type": "code",
   "execution_count": null,
   "id": "63d50c17-f364-4cbd-91cc-ed12bdbeda0b",
   "metadata": {},
   "outputs": [],
   "source": [
    "cc.finalfit"
   ]
  },
  {
   "cell_type": "code",
   "execution_count": null,
   "id": "113fd5e4-38e1-4432-bb01-6844d073500f",
   "metadata": {},
   "outputs": [],
   "source": [
    "cc.mineff_index"
   ]
  },
  {
   "cell_type": "code",
   "execution_count": null,
   "id": "239e037e-0b97-4b9d-9ae4-11a601b725ed",
   "metadata": {},
   "outputs": [],
   "source": [
    "cc.twat_obs"
   ]
  },
  {
   "cell_type": "code",
   "execution_count": null,
   "id": "b0e2aa6d-b2b5-453e-ad22-1a12608ad9f1",
   "metadata": {},
   "outputs": [],
   "source": [
    "cc.twat_mod"
   ]
  },
  {
   "cell_type": "code",
   "execution_count": null,
   "id": "4abe23b8-a793-43d7-9336-dd51b5c9f2ac",
   "metadata": {},
   "outputs": [],
   "source": [
    "import matplotlib.pyplot as plt"
   ]
  },
  {
   "cell_type": "code",
   "execution_count": null,
   "id": "6802a0c9-0e5a-4609-9988-72b1ed5645c8",
   "metadata": {},
   "outputs": [],
   "source": [
    "plt.plot(cc.twat_obs, cc.twat_mod, 'r.')"
   ]
  },
  {
   "cell_type": "code",
   "execution_count": null,
   "id": "539b1dea-f07a-458d-9a7f-21cbac806d6f",
   "metadata": {},
   "outputs": [],
   "source": [
    "\n",
    "import numpy as np, pandas as pd, xarray as xr\n",
    "from typing import Sequence\n",
    "\n",
    "def plot_two_arrays(\n",
    "    a: np.ndarray,\n",
    "    b: np.ndarray,\n",
    "    names: Sequence[str] = None,\n",
    "    xlab=\"time\",\n",
    "    ylab=None,\n",
    "    title=None,\n",
    "    **kwargs\n",
    "):\n",
    "    _, ax = plt.subplots(figsize=(16, 9))\n",
    "    if names is None:\n",
    "        names = [\"First series\", \"Second series\"]\n",
    "    ax.plot(np.arange(len(a)), a, linewidth=2, label=names[0])\n",
    "    ax.plot(np.arange(len(a)), b, linewidth=2, label=names[1])\n",
    "    ax.legend()\n",
    "    if xlab is not None:\n",
    "        ax.set_xlabel(xlab)\n",
    "    if ylab is not None:\n",
    "        ax.set_ylabel(ylab)\n",
    "    if title is not None:\n",
    "        ax.set_title(title)\n",
    "    plt.show()"
   ]
  },
  {
   "cell_type": "code",
   "execution_count": null,
   "id": "33e0a8aa-b630-4b06-8e16-b725aa88b29f",
   "metadata": {},
   "outputs": [],
   "source": [
    "obs = cc.twat_obs\n",
    "mod = cc.twat_mod\n"
   ]
  },
  {
   "cell_type": "code",
   "execution_count": null,
   "id": "f8c81635-14e3-4fab-93ec-67d12c290e5f",
   "metadata": {},
   "outputs": [],
   "source": [
    "plot_two_arrays(obs[:], cc.twat_mod)"
   ]
  },
  {
   "cell_type": "code",
   "execution_count": null,
   "id": "36f1f8e9-2d44-4b1e-b115-4654c3af90f5",
   "metadata": {},
   "outputs": [],
   "source": []
  }
 ],
 "metadata": {
  "kernelspec": {
   "display_name": "HFC",
   "language": "python",
   "name": "hydrofc"
  },
  "language_info": {
   "codemirror_mode": {
    "name": "ipython",
    "version": 3
   },
   "file_extension": ".py",
   "mimetype": "text/x-python",
   "name": "python",
   "nbconvert_exporter": "python",
   "pygments_lexer": "ipython3",
   "version": "3.9.15"
  }
 },
 "nbformat": 4,
 "nbformat_minor": 5
}
